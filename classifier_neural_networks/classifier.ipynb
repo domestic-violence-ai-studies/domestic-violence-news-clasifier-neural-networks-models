{
 "cells": [
  {
   "cell_type": "code",
   "execution_count": 22,
   "metadata": {},
   "outputs": [],
   "source": [
    "from sklearn.preprocessing import MultiLabelBinarizer\n",
    "from keras.preprocessing.text import Tokenizer\n",
    "from keras.models import Sequential\n",
    "from keras.layers import Dense, Activation, Embedding, MaxPooling1D, Flatten, GlobalMaxPool1D, Dropout, Conv1D\n",
    "from tensorflow.keras.callbacks import ReduceLROnPlateau, EarlyStopping, ModelCheckpoint, CSVLogger\n",
    "\n",
    "from sklearn.model_selection import train_test_split\n",
    "from keras.preprocessing.sequence import pad_sequences\n",
    "\n",
    "import pandas as pd\n",
    "import numpy as np\n",
    "import pickle"
   ]
  },
  {
   "cell_type": "code",
   "execution_count": 6,
   "metadata": {},
   "outputs": [],
   "source": [
    "\n",
    "multilabel_binarizer = MultiLabelBinarizer()\n",
    "model = None\n"
   ]
  },
  {
   "cell_type": "code",
   "execution_count": 24,
   "metadata": {},
   "outputs": [
    {
     "output_type": "execute_result",
     "data": {
      "text/plain": "(7158,)"
     },
     "metadata": {},
     "execution_count": 24
    }
   ],
   "source": [
    "filename = \"../data/json_bundle_news_domestic_violence/clean_data.json\"\n",
    "df = pd.read_json(filename)\n",
    "#df = self.clean_news(df)\n",
    "\n",
    "y = df.about_domestic_violence.values\n",
    "sentences = df['content'].values\n",
    "sentences.shape"
   ]
  },
  {
   "cell_type": "code",
   "execution_count": 7,
   "metadata": {},
   "outputs": [],
   "source": [
    "sentences_train, sentences_test, y_train, y_test = train_test_split(\n",
    "sentences, y, test_size=0.25, random_state=1000)\n",
    "maxlen = 900\n",
    "with open('../data/neural_network_config/tokenizer.pickle', 'rb') as handle:\n",
    "        tokenizer = pickle.load(handle)\n",
    "\n",
    "X_train = tokenizer.texts_to_sequences(sentences_train)\n",
    "X_test = tokenizer.texts_to_sequences(sentences_test)\n",
    "\n",
    "X_train = pad_sequences(X_train, padding='post', maxlen=maxlen)\n",
    "X_test = pad_sequences(X_test, padding='post', maxlen=maxlen)"
   ]
  },
  {
   "cell_type": "code",
   "execution_count": 18,
   "metadata": {},
   "outputs": [
    {
     "output_type": "stream",
     "name": "stdout",
     "text": "creating model\n"
    }
   ],
   "source": [
    "import keras_metrics\n",
    "print(\"creating model\")\n",
    "filter_length = 300\n",
    "vocab_size = len(tokenizer.word_index) + 1  # Adding 1 because of reserved 0 index\n",
    "\n",
    "#model = Sequential()\n",
    "#model.add(Embedding(vocab_size, 20, input_length=maxlen))\n",
    "#model.add(Dropout(0.15))\n",
    "#model.add(GlobalMaxPool1D())\n",
    "#model.add(Dense(output_size, activation='sigmoid'))\n",
    "\n",
    "model = Sequential()\n",
    "model.add(Embedding(vocab_size, 20, input_length=maxlen))\n",
    "model.add(Dropout(0.1))\n",
    "model.add(Conv1D(filter_length, 5, activation='relu'))\n",
    "model.add(Conv1D(filter_length, 5, activation='relu'))\n",
    "model.add(MaxPooling1D(5))\n",
    "model.add(Conv1D(filter_length, 5, activation='relu'))\n",
    "model.add(Conv1D(filter_length, 5, activation='relu'))\n",
    "model.add(GlobalMaxPool1D())\n",
    "model.add(Dense(1, activation='sigmoid'))\n",
    "\n",
    "#self.model = Sequential()\n",
    "#self.model.add(Embedding(vocab_size, 20, input_length=self.maxlen))\n",
    "#self.model.add(GRU(128, return_sequences=True))\n",
    "#self.model.add(GRU(128))\n",
    "#self.model.add(Dense(1, activation='sigmoid'))\n",
    "\n",
    "model.compile(optimizer='adam',\n",
    "        loss='binary_crossentropy',\n",
    "        metrics=['accuracy',keras_metrics.precision(), keras_metrics.recall()])\n"
   ]
  },
  {
   "cell_type": "code",
   "execution_count": 23,
   "metadata": {},
   "outputs": [
    {
     "output_type": "stream",
     "name": "stdout",
     "text": "training model\nEpoch 1/40\nWARNING:tensorflow:From /Users/hugojosebello/.local/share/virtualenvs/news-clasifier-domestic-violence-neural-ne-iTO6_HP6/lib/python3.7/site-packages/keras_metrics/metrics.py:51: calling Layer.add_update (from tensorflow.python.keras.engine.base_layer) with inputs is deprecated and will be removed in a future version.\nInstructions for updating:\n`inputs` is now automatically inferred\n54/54 [==============================] - 141s 3s/step - loss: 0.5536 - accuracy: 0.6865 - precision: 0.5507 - recall: 0.8411 - val_loss: 0.3639 - val_accuracy: 0.8413 - val_precision: 0.9497 - val_recall: 0.7516\nEpoch 2/40\n54/54 [==============================] - 128s 2s/step - loss: 0.2554 - accuracy: 0.9130 - precision: 0.9246 - recall: 0.9043 - val_loss: 0.2705 - val_accuracy: 0.8983 - val_precision: 0.9083 - val_recall: 0.9035\nEpoch 3/40\n54/54 [==============================] - 133s 2s/step - loss: 0.1506 - accuracy: 0.9529 - precision: 0.9555 - recall: 0.9613 - val_loss: 0.3376 - val_accuracy: 0.8927 - val_precision: 0.8781 - val_recall: 0.9199\nEpoch 4/40\n54/54 [==============================] - 116s 2s/step - loss: 0.1151 - accuracy: 0.9680 - precision: 0.9683 - recall: 0.9720 - val_loss: 0.3732 - val_accuracy: 0.8855 - val_precision: 0.9235 - val_recall: 0.8555\nEpoch 5/40\n54/54 [==============================] - 109s 2s/step - loss: 0.0823 - accuracy: 0.9782 - precision: 0.9823 - recall: 0.9822 - val_loss: 0.3861 - val_accuracy: 0.8804 - val_precision: 0.9047 - val_recall: 0.8606\nEpoch 6/40\n54/54 [==============================] - 101s 2s/step - loss: 0.0742 - accuracy: 0.9812 - precision: 0.9806 - recall: 0.9845 - val_loss: 0.3676 - val_accuracy: 0.8838 - val_precision: 0.9318 - val_recall: 0.8470\nEpoch 7/40\n54/54 [==============================] - 108s 2s/step - loss: 0.0638 - accuracy: 0.9840 - precision: 0.9835 - recall: 0.9845 - val_loss: 0.3949 - val_accuracy: 0.8799 - val_precision: 0.8847 - val_recall: 0.8852\nEpoch 8/40\n54/54 [==============================] - 129s 2s/step - loss: 0.0590 - accuracy: 0.9851 - precision: 0.9890 - recall: 0.9855 - val_loss: 0.4039 - val_accuracy: 0.8821 - val_precision: 0.8717 - val_recall: 0.9092\nEpoch 9/40\n54/54 [==============================] - 95s 2s/step - loss: 0.0539 - accuracy: 0.9858 - precision: 0.9900 - recall: 0.9877 - val_loss: 0.4393 - val_accuracy: 0.8760 - val_precision: 0.9096 - val_recall: 0.8414\nEpoch 10/40\n54/54 [==============================] - 90s 2s/step - loss: 0.0548 - accuracy: 0.9858 - precision: 0.9897 - recall: 0.9870 - val_loss: 0.4204 - val_accuracy: 0.8821 - val_precision: 0.9163 - val_recall: 0.8498\nEpoch 11/40\n54/54 [==============================] - 88s 2s/step - loss: 0.0490 - accuracy: 0.9866 - precision: 0.9886 - recall: 0.9870 - val_loss: 0.4012 - val_accuracy: 0.8804 - val_precision: 0.8614 - val_recall: 0.9126\nEpoch 12/40\n54/54 [==============================] - 85s 2s/step - loss: 0.0480 - accuracy: 0.9885 - precision: 0.9889 - recall: 0.9898 - val_loss: 0.4365 - val_accuracy: 0.8804 - val_precision: 0.9206 - val_recall: 0.8460\nEpoch 13/40\n54/54 [==============================] - 90s 2s/step - loss: 0.0485 - accuracy: 0.9892 - precision: 0.9903 - recall: 0.9885 - val_loss: 0.5150 - val_accuracy: 0.8754 - val_precision: 0.8530 - val_recall: 0.9149\nEpoch 14/40\n54/54 [==============================] - 85s 2s/step - loss: 0.0459 - accuracy: 0.9875 - precision: 0.9868 - recall: 0.9882 - val_loss: 0.3710 - val_accuracy: 0.8849 - val_precision: 0.9165 - val_recall: 0.8693\nEpoch 15/40\n54/54 [==============================] - 90s 2s/step - loss: 0.0440 - accuracy: 0.9879 - precision: 0.9923 - recall: 0.9909 - val_loss: 0.5457 - val_accuracy: 0.8676 - val_precision: 0.8333 - val_recall: 0.9190\nEpoch 16/40\n54/54 [==============================] - 86s 2s/step - loss: 0.0502 - accuracy: 0.9862 - precision: 0.9872 - recall: 0.9872 - val_loss: 0.4115 - val_accuracy: 0.8877 - val_precision: 0.8729 - val_recall: 0.9116\nEpoch 17/40\n54/54 [==============================] - 91s 2s/step - loss: 0.0420 - accuracy: 0.9868 - precision: 0.9873 - recall: 0.9890 - val_loss: 0.3770 - val_accuracy: 0.8927 - val_precision: 0.9093 - val_recall: 0.8902\nEpoch 18/40\n54/54 [==============================] - 98s 2s/step - loss: 0.0375 - accuracy: 0.9864 - precision: 0.9891 - recall: 0.9873 - val_loss: 0.4924 - val_accuracy: 0.8821 - val_precision: 0.8497 - val_recall: 0.9238\nEpoch 19/40\n54/54 [==============================] - 109s 2s/step - loss: 0.0355 - accuracy: 0.9883 - precision: 0.9859 - recall: 0.9889 - val_loss: 0.3694 - val_accuracy: 0.8899 - val_precision: 0.9033 - val_recall: 0.8840\nEpoch 20/40\n54/54 [==============================] - 112s 2s/step - loss: 0.0430 - accuracy: 0.9860 - precision: 0.9908 - recall: 0.9882 - val_loss: 0.4804 - val_accuracy: 0.8754 - val_precision: 0.8406 - val_recall: 0.9227\nEpoch 21/40\n54/54 [==============================] - 87s 2s/step - loss: 0.0374 - accuracy: 0.9885 - precision: 0.9897 - recall: 0.9919 - val_loss: 0.4158 - val_accuracy: 0.8877 - val_precision: 0.9250 - val_recall: 0.8646\nEpoch 22/40\n54/54 [==============================] - 91s 2s/step - loss: 0.0341 - accuracy: 0.9877 - precision: 0.9921 - recall: 0.9912 - val_loss: 0.3935 - val_accuracy: 0.8804 - val_precision: 0.9305 - val_recall: 0.8497\nEpoch 23/40\n54/54 [==============================] - 101s 2s/step - loss: 0.0353 - accuracy: 0.9883 - precision: 0.9907 - recall: 0.9870 - val_loss: 0.5278 - val_accuracy: 0.8782 - val_precision: 0.8493 - val_recall: 0.9158\nEpoch 24/40\n54/54 [==============================] - 116s 2s/step - loss: 0.0313 - accuracy: 0.9868 - precision: 0.9909 - recall: 0.9880 - val_loss: 0.3962 - val_accuracy: 0.8821 - val_precision: 0.9380 - val_recall: 0.8398\nEpoch 25/40\n54/54 [==============================] - 117s 2s/step - loss: 0.0316 - accuracy: 0.9868 - precision: 0.9914 - recall: 0.9876 - val_loss: 0.3845 - val_accuracy: 0.8899 - val_precision: 0.9063 - val_recall: 0.8858\nEpoch 26/40\n54/54 [==============================] - 101s 2s/step - loss: 0.0319 - accuracy: 0.9879 - precision: 0.9912 - recall: 0.9873 - val_loss: 0.4239 - val_accuracy: 0.8855 - val_precision: 0.9267 - val_recall: 0.8578\nEpoch 27/40\n54/54 [==============================] - 98s 2s/step - loss: 0.0317 - accuracy: 0.9873 - precision: 0.9934 - recall: 0.9891 - val_loss: 0.3985 - val_accuracy: 0.8810 - val_precision: 0.9456 - val_recall: 0.8334\nEpoch 28/40\n54/54 [==============================] - 96s 2s/step - loss: 0.0272 - accuracy: 0.9885 - precision: 0.9909 - recall: 0.9843 - val_loss: 0.4694 - val_accuracy: 0.8933 - val_precision: 0.8983 - val_recall: 0.8998\nEpoch 29/40\n54/54 [==============================] - 109s 2s/step - loss: 0.0277 - accuracy: 0.9873 - precision: 0.9909 - recall: 0.9866 - val_loss: 0.4545 - val_accuracy: 0.8916 - val_precision: 0.8849 - val_recall: 0.9041\nEpoch 30/40\n54/54 [==============================] - 118s 2s/step - loss: 0.0295 - accuracy: 0.9881 - precision: 0.9904 - recall: 0.9893 - val_loss: 0.4208 - val_accuracy: 0.8905 - val_precision: 0.8833 - val_recall: 0.9020\nEpoch 31/40\n54/54 [==============================] - 116s 2s/step - loss: 0.0273 - accuracy: 0.9881 - precision: 0.9924 - recall: 0.9885 - val_loss: 0.3637 - val_accuracy: 0.8838 - val_precision: 0.9206 - val_recall: 0.8577\nEpoch 32/40\n54/54 [==============================] - 92s 2s/step - loss: 0.0276 - accuracy: 0.9864 - precision: 0.9893 - recall: 0.9867 - val_loss: 0.4188 - val_accuracy: 0.8816 - val_precision: 0.9281 - val_recall: 0.8511\nEpoch 33/40\n54/54 [==============================] - 105s 2s/step - loss: 0.0292 - accuracy: 0.9871 - precision: 0.9905 - recall: 0.9871 - val_loss: 0.4528 - val_accuracy: 0.8855 - val_precision: 0.9112 - val_recall: 0.8653\nEpoch 34/40\n54/54 [==============================] - 118s 2s/step - loss: 0.0270 - accuracy: 0.9879 - precision: 0.9944 - recall: 0.9881 - val_loss: 0.3879 - val_accuracy: 0.8872 - val_precision: 0.9082 - val_recall: 0.8710\nEpoch 35/40\n54/54 [==============================] - 138s 3s/step - loss: 0.0258 - accuracy: 0.9888 - precision: 0.9921 - recall: 0.9920 - val_loss: 0.3774 - val_accuracy: 0.8844 - val_precision: 0.9208 - val_recall: 0.8552\nEpoch 36/40\n54/54 [==============================] - 138s 3s/step - loss: 0.0253 - accuracy: 0.9890 - precision: 0.9927 - recall: 0.9899 - val_loss: 0.4113 - val_accuracy: 0.8844 - val_precision: 0.9207 - val_recall: 0.8544\nEpoch 37/40\n54/54 [==============================] - 132s 2s/step - loss: 0.0245 - accuracy: 0.9888 - precision: 0.9892 - recall: 0.9911 - val_loss: 0.4383 - val_accuracy: 0.8804 - val_precision: 0.9415 - val_recall: 0.8376\nEpoch 38/40\n54/54 [==============================] - 118s 2s/step - loss: 0.0257 - accuracy: 0.9875 - precision: 0.9918 - recall: 0.9868 - val_loss: 0.5176 - val_accuracy: 0.8693 - val_precision: 0.9523 - val_recall: 0.8135\nEpoch 39/40\n54/54 [==============================] - 136s 3s/step - loss: 0.0260 - accuracy: 0.9881 - precision: 0.9947 - recall: 0.9880 - val_loss: 0.3906 - val_accuracy: 0.8872 - val_precision: 0.8977 - val_recall: 0.8798\nEpoch 40/40\n54/54 [==============================] - 97s 2s/step - loss: 0.0233 - accuracy: 0.9881 - precision: 0.9884 - recall: 0.9865 - val_loss: 0.5059 - val_accuracy: 0.8816 - val_precision: 0.9377 - val_recall: 0.8421\n"
    }
   ],
   "source": [
    "\n",
    "print(\"training model\")\n",
    "csv_logger = CSVLogger('log_loss.csv', append=False, separator=';')\n",
    "\n",
    "callbacks = [\n",
    "ModelCheckpoint(filepath='../data/neural_network_config/temp-model.h5', save_best_only=True), csv_logger]\n",
    "\n",
    "history = model.fit(X_train, y_train,\n",
    "                    epochs=40,\n",
    "                    batch_size=100,\n",
    "                    validation_data=(X_test, y_test),\n",
    "                    callbacks=callbacks)\n"
   ]
  },
  {
   "cell_type": "code",
   "execution_count": null,
   "metadata": {},
   "outputs": [],
   "source": [
    "print(\"saving model\")\n",
    "# serialize model to JSON\n",
    "model_json = model.to_json()\n",
    "with open(\"../data/neural_network_config/model.json\", \"w\") as json_file:\n",
    "    json_file.write(model_json)\n",
    "# serialize weights to HDF5\n",
    "model.save_weights(\"../data/neural_network_config/model.h5\")\n",
    "print(\"Saved model to disk\")"
   ]
  }
 ],
 "metadata": {
  "language_info": {
   "codemirror_mode": {
    "name": "ipython",
    "version": 3
   },
   "file_extension": ".py",
   "mimetype": "text/x-python",
   "name": "python",
   "nbconvert_exporter": "python",
   "pygments_lexer": "ipython3",
   "version": "3.7.7-final"
  },
  "orig_nbformat": 2,
  "kernelspec": {
   "name": "python37764bitnewsclasifierdomesticviolenceneuralneito6hp6venve21c546f694740e4b2beeaee5dbf7fb2",
   "display_name": "Python 3.7.7 64-bit ('news-clasifier-domestic-violence-neural-ne-iTO6_HP6': venv)"
  }
 },
 "nbformat": 4,
 "nbformat_minor": 2
}